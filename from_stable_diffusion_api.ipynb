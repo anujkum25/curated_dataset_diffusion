{
 "cells": [
  {
   "cell_type": "code",
   "execution_count": 1,
   "id": "17d77147",
   "metadata": {},
   "outputs": [],
   "source": [
    "import requests\n"
   ]
  },
  {
   "cell_type": "code",
   "execution_count": 2,
   "id": "e909a33c",
   "metadata": {},
   "outputs": [],
   "source": [
    "input_path =\"diffusion_input/\"\n",
    "pretrained_model_path =\"diffusion_model_pretrained/\"\n",
    "output_path =\"diffusion_output/\"\n"
   ]
  },
  {
   "cell_type": "code",
   "execution_count": 3,
   "id": "4bf1f8f5",
   "metadata": {},
   "outputs": [
    {
     "name": "stdout",
     "output_type": "stream",
     "text": [
      "(49, 3) (100, 2) (137, 2) (137, 2) (70, 2)\n"
     ]
    }
   ],
   "source": [
    "import pandas as pd\n",
    "\n",
    "dataset1= pd.read_csv(input_path+\"dataset1.csv\")\n",
    "dataset2= pd.read_csv(input_path+\"dataset2.csv\")\n",
    "dataset3= pd.read_csv(input_path+\"dataset3.csv\")\n",
    "dataset4= pd.read_csv(input_path+\"dataset3.csv\")\n",
    "dataset2_hindi= pd.read_csv(input_path+\"dataset2_hindi.csv\")\n",
    "dataset2_hindi.rename(columns={\"Prompt (Hindi)\":\"Prompt\"}, inplace=True)\n",
    "\n",
    "print(dataset1.shape,\n",
    "      dataset2.shape,\n",
    "      dataset3.shape,\n",
    "      dataset4.shape,\n",
    "      dataset2_hindi.shape,\n",
    "      )\n",
    "\n"
   ]
  },
  {
   "cell_type": "code",
   "execution_count": null,
   "id": "9aa0552f",
   "metadata": {},
   "outputs": [
    {
     "ename": "Exception",
     "evalue": "{'errors': ['You lack sufficient credits to make this request.  Please purchase more credits at https://platform.stability.ai/account/credits and try again.'], 'id': '8885fdc3176cb2eee55c644d0ba1c6a1', 'name': 'payment_required'}",
     "output_type": "error",
     "traceback": [
      "\u001b[1;31m---------------------------------------------------------------------------\u001b[0m",
      "\u001b[1;31mException\u001b[0m                                 Traceback (most recent call last)",
      "Cell \u001b[1;32mIn[5], line 18\u001b[0m\n\u001b[0;32m     16\u001b[0m            file\u001b[38;5;241m.\u001b[39mwrite(response\u001b[38;5;241m.\u001b[39mcontent)\n\u001b[0;32m     17\u001b[0m \u001b[38;5;28;01melse\u001b[39;00m:\n\u001b[1;32m---> 18\u001b[0m     \u001b[38;5;28;01mraise\u001b[39;00m \u001b[38;5;167;01mException\u001b[39;00m(\u001b[38;5;28mstr\u001b[39m(response\u001b[38;5;241m.\u001b[39mjson()))\n",
      "\u001b[1;31mException\u001b[0m: {'errors': ['You lack sufficient credits to make this request.  Please purchase more credits at https://platform.stability.ai/account/credits and try again.'], 'id': '8885fdc3176cb2eee55c644d0ba1c6a1', 'name': 'payment_required'}"
     ]
    }
   ],
   "source": [
    "for i in range(len(dataset2)):\n",
    "    prompt = dataset2[\"Prompt\"][i]\n",
    "    response = requests.post(\n",
    "         f\"https://api.stability.ai/v2beta/stable-image/generate/ultra\",\n",
    "         \n",
    "         headers=\n",
    "         {\"authorization\": \n",
    "          f\"sk-COW9wUFOcp8tIBRoA5wcnqO4B8MpTPb4Mqb9VpcxaPmYCttg\",\n",
    "          \"accept\": \n",
    "          \"image/*\"},\n",
    "          files={\"none\": ''},\n",
    "          data={\"prompt\": \n",
    "                prompt,\n",
    "                \"output_format\": \"webp\",},)\n",
    "    if response.status_code == 200:\n",
    "         with open(output_path+\"dataset2\"+\"/SD_api/\"+f\"{prompt}.webp\", 'wb') as file:\n",
    "               file.write(response.content)\n",
    "    else:\n",
    "        raise Exception(str(response.json()))"
   ]
  },
  {
   "cell_type": "code",
   "execution_count": 7,
   "id": "858904c9",
   "metadata": {},
   "outputs": [
    {
     "ename": "Exception",
     "evalue": "Non-200 response: {\"id\":\"0df4c4fd711b9d448a0fe42ae5e3023b\",\"message\":\"Your organization does not have enough balance to request this action (need $0.009, have $0.007 in active grants, $0 in balance).\",\"name\":\"insufficient_balance\"}\n",
     "output_type": "error",
     "traceback": [
      "\u001b[1;31m---------------------------------------------------------------------------\u001b[0m",
      "\u001b[1;31mException\u001b[0m                                 Traceback (most recent call last)",
      "Cell \u001b[1;32mIn[7], line 37\u001b[0m\n\u001b[0;32m     15\u001b[0m response \u001b[38;5;241m=\u001b[39m requests\u001b[38;5;241m.\u001b[39mpost(\n\u001b[0;32m     16\u001b[0m     \u001b[38;5;124mf\u001b[39m\u001b[38;5;124m\"\u001b[39m\u001b[38;5;132;01m{\u001b[39;00mapi_host\u001b[38;5;132;01m}\u001b[39;00m\u001b[38;5;124m/v1/generation/\u001b[39m\u001b[38;5;132;01m{\u001b[39;00mengine_id\u001b[38;5;132;01m}\u001b[39;00m\u001b[38;5;124m/text-to-image\u001b[39m\u001b[38;5;124m\"\u001b[39m,\n\u001b[0;32m     17\u001b[0m     headers\u001b[38;5;241m=\u001b[39m{\n\u001b[1;32m   (...)\u001b[0m\n\u001b[0;32m     33\u001b[0m     },\n\u001b[0;32m     34\u001b[0m )\n\u001b[0;32m     36\u001b[0m \u001b[38;5;28;01mif\u001b[39;00m response\u001b[38;5;241m.\u001b[39mstatus_code \u001b[38;5;241m!=\u001b[39m \u001b[38;5;241m200\u001b[39m:\n\u001b[1;32m---> 37\u001b[0m     \u001b[38;5;28;01mraise\u001b[39;00m \u001b[38;5;167;01mException\u001b[39;00m(\u001b[38;5;124m\"\u001b[39m\u001b[38;5;124mNon-200 response: \u001b[39m\u001b[38;5;124m\"\u001b[39m \u001b[38;5;241m+\u001b[39m \u001b[38;5;28mstr\u001b[39m(response\u001b[38;5;241m.\u001b[39mtext))\n\u001b[0;32m     39\u001b[0m data \u001b[38;5;241m=\u001b[39m response\u001b[38;5;241m.\u001b[39mjson()\n\u001b[0;32m     41\u001b[0m \u001b[38;5;28;01mfor\u001b[39;00m i, image \u001b[38;5;129;01min\u001b[39;00m \u001b[38;5;28menumerate\u001b[39m(data[\u001b[38;5;124m\"\u001b[39m\u001b[38;5;124martifacts\u001b[39m\u001b[38;5;124m\"\u001b[39m]):\n",
      "\u001b[1;31mException\u001b[0m: Non-200 response: {\"id\":\"0df4c4fd711b9d448a0fe42ae5e3023b\",\"message\":\"Your organization does not have enough balance to request this action (need $0.009, have $0.007 in active grants, $0 in balance).\",\"name\":\"insufficient_balance\"}\n"
     ]
    }
   ],
   "source": [
    "import base64\n",
    "import os\n",
    "import requests\n",
    "\n",
    "engine_id = \"stable-diffusion-xl-1024-v1-0\"\n",
    "api_host = os.getenv('API_HOST', 'https://api.stability.ai')\n",
    "api_key = \"sk-PliGGuj8zANVxdvQT0tQm1UpYbaKhCLq57gemyx71LszpLq7\"\n",
    "\n",
    "if api_key is None:\n",
    "    raise Exception(\"Missing Stability API key.\")\n",
    "\n",
    "\n",
    "for i in range(len(dataset2)):\n",
    "    prompt = dataset2[\"Prompt\"][i]\n",
    "    response = requests.post(\n",
    "        f\"{api_host}/v1/generation/{engine_id}/text-to-image\",\n",
    "        headers={\n",
    "            \"Content-Type\": \"application/json\",\n",
    "            \"Accept\": \"application/json\",\n",
    "            \"Authorization\": f\"Bearer {api_key}\"\n",
    "        },\n",
    "        json={\n",
    "            \"text_prompts\": [\n",
    "                {\n",
    "                    \"text\": prompt\n",
    "                }\n",
    "            ],\n",
    "            \"cfg_scale\": 7,\n",
    "            \"height\": 1024,\n",
    "            \"width\": 1024,\n",
    "            \"samples\": 1,\n",
    "            \"steps\": 30,\n",
    "        },\n",
    "    )\n",
    "\n",
    "    if response.status_code != 200:\n",
    "        raise Exception(\"Non-200 response: \" + str(response.text))\n",
    "\n",
    "    data = response.json()\n",
    "\n",
    "    for i, image in enumerate(data[\"artifacts\"]):\n",
    "        with open(output_path+\"dataset2\"+\"/SD_api/\"+f\"{prompt}.webp\", \"wb\") as f:\n",
    "            f.write(base64.b64decode(image[\"base64\"]))\n"
   ]
  }
 ],
 "metadata": {
  "kernelspec": {
   "display_name": "Python 3",
   "language": "python",
   "name": "python3"
  },
  "language_info": {
   "codemirror_mode": {
    "name": "ipython",
    "version": 3
   },
   "file_extension": ".py",
   "mimetype": "text/x-python",
   "name": "python",
   "nbconvert_exporter": "python",
   "pygments_lexer": "ipython3",
   "version": "3.11.9"
  }
 },
 "nbformat": 4,
 "nbformat_minor": 5
}
